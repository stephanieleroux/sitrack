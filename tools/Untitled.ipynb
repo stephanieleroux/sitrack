{
 "cells": [
  {
   "cell_type": "code",
   "execution_count": 2,
   "id": "c85d3748-9ec6-4fe3-929b-01dbebad0b0c",
   "metadata": {},
   "outputs": [],
   "source": [
    "from sys import argv, exit\n",
    "from os import path, makedirs, environ\n",
    "import numpy as np\n",
    "from re import split\n",
    "\n",
    "import mojito   as mjt\n",
    "import sitrack  as sit\n",
    "\n",
    "#import random\n",
    "from random import random, choices\n"
   ]
  },
  {
   "cell_type": "code",
   "execution_count": 4,
   "id": "51e5abde-5b45-4127-9494-cb12d0725e01",
   "metadata": {},
   "outputs": [
    {
     "name": "stdout",
     "output_type": "stream",
     "text": [
      "======== Nb of buoys read from sidfex file......2\n"
     ]
    }
   ],
   "source": [
    "    \n",
    "test = sit.ReadFromSidfexDatFile()"
   ]
  },
  {
   "cell_type": "code",
   "execution_count": 13,
   "id": "e2b6bfea-7ca5-4ff0-8da1-4f66656a15d3",
   "metadata": {},
   "outputs": [
    {
     "data": {
      "text/plain": [
       "array([[ -38.46444,   63.84587],\n",
       "       [-108.59057,   86.66488]])"
      ]
     },
     "execution_count": 13,
     "metadata": {},
     "output_type": "execute_result"
    }
   ],
   "source": [
    "test[:,1:]\n"
   ]
  },
  {
   "cell_type": "code",
   "execution_count": 16,
   "id": "9c776ac1-8fc0-4479-89b0-44c848f4c535",
   "metadata": {},
   "outputs": [],
   "source": [
    "def __argument_parsing__():\n",
    "    '''\n",
    "    ARGUMENT PARSING / USAGE\n",
    "    '''\n",
    "    import argparse as ap\n",
    "    #\n",
    "    parser = ap.ArgumentParser(description='SITRACK ICE PARTICULES TRACKER')\n",
    "    rqrdNam = parser.add_argument_group('required arguments')\n",
    "    #\n",
    "    rqrdNam.add_argument('-d', '--dat0', required=True,       help='initial date in the form <YYYY-MM-DD_hh:mm:ss>')\n",
    "    #\n",
    "    parser.add_argument('-m', '--fmmm' , default=None,        help='model `mesh_mask` file of NEMO config used in SI3 run')\n",
    "    parser.add_argument('-i', '--fsi3' , default=None,        help='output file of SI3 containing sea-ice concentration')\n",
    "    parser.add_argument('-v', '--nsic' , default='siconc',    help='name of sea-ice concentration in SI3 file (default=\"siconc\")')\n",
    "    parser.add_argument('-k', '--krec' , type=int, default=0, help='use sea-ice concentration at this record (only if you did specify a SI3 file with `--fsi3`!)')\n",
    "    parser.add_argument('-S', '--ihss' , type=int, default=1, help='horizontal subsampling factor to apply')\n",
    "    parser.add_argument('-f', '--fmsk' , default=None,        help='mask (on SI3 model domain) to control seeding region')\n",
    "    parser.add_argument('-C', '--crsn' , type=int, default=0, help='apply this coarsening in km')\n",
    "    parser.add_argument('-N', '--ncnf' , default='NANUK4',    help='name of the horizontak NEMO config used')\n",
    "    parser.add_argument('--lsidfex' , type=int,default=0,     help='Switch to 1 for SIDFEX seeding.')\n",
    "    args = parser.parse_args()\n",
    "\n",
    "    if args.fsi3 and not args.fmmm:\n",
    "        #print('ERROR: chose between SI3 output file or MeshMask file !!! (i.e. `-m` or `-i`)')\n",
    "        print('ERROR: you have to specify a MeshMask file with `-m` when using SI3 file!')\n",
    "        exit(0)\n",
    "    \n",
    "    print('')\n",
    "    print(' *** Date for initilization => ', args.dat0)\n",
    "    if args.fsi3:\n",
    "        print(' *** SI3 file to get sea-ice concentration from => ', args.fsi3)\n",
    "        print('     ==> name of sea-ice concentration field    => ', args.nsic )\n",
    "        print('     ==> record to use                   => ', args.krec )\n",
    "    if args.fmmm:\n",
    "        print(' *** SI3 `mesh_mask` metrics file        => ', args.fmmm)\n",
    "    print(' *** Horizontal subsampling factor to apply => ', args.ihss)\n",
    "    if args.fmsk:\n",
    "        print(' *** Will apply masking on seeding data, file to use => ', args.fmsk )\n",
    "    if args.crsn>=1:\n",
    "        print(' *** Will apply a coarsening on cloud of points, at scale => ', args.crsn,'km' )\n",
    "    if args.ncnf:\n",
    "        print(' *** Name of the horizontak NEMO config used => ', args.ncnf)\n",
    "    if args.lsidfex:\n",
    "        print(' *** SIDFEX seeding? => ', args.lsidfex)\n",
    "    #\n",
    "    return args.dat0, args.fsi3, args.nsic, args.krec, args.fmmm, args.ihss, args.fmsk, args.crsn, args.ncnf, args.lsidfex\n"
   ]
  },
  {
   "cell_type": "code",
   "execution_count": 17,
   "id": "23dd97f1-8613-4805-81c3-131f3ebe396e",
   "metadata": {},
   "outputs": [
    {
     "name": "stderr",
     "output_type": "stream",
     "text": [
      "usage: ipykernel_launcher.py [-h] -d DAT0 [-m FMMM] [-i FSI3] [-v NSIC]\n",
      "                             [-k KREC] [-S IHSS] [-f FMSK] [-C CRSN] [-N NCNF]\n",
      "                             [--lsidfex LSIDFEX]\n",
      "ipykernel_launcher.py: error: the following arguments are required: -d/--dat0\n"
     ]
    },
    {
     "ename": "SystemExit",
     "evalue": "2",
     "output_type": "error",
     "traceback": [
      "An exception has occurred, use %tb to see the full traceback.\n",
      "\u001b[0;31mSystemExit\u001b[0m\u001b[0;31m:\u001b[0m 2\n"
     ]
    },
    {
     "name": "stderr",
     "output_type": "stream",
     "text": [
      "/Users/leroux/anaconda3/envs/jupy/lib/python3.11/site-packages/IPython/core/interactiveshell.py:3513: UserWarning: To exit: use 'exit', 'quit', or Ctrl-D.\n",
      "  warn(\"To exit: use 'exit', 'quit', or Ctrl-D.\", stacklevel=1)\n"
     ]
    }
   ],
   "source": [
    "cdate0, cf_si3, cv_sic, krec, cf_mm, iHSS, cf_force_msk, icrsn, CONF , lsidfex = __argument_parsing__()"
   ]
  },
  {
   "cell_type": "code",
   "execution_count": 1,
   "id": "24d149c9-d82d-4b5e-bfd2-4f2838e4d4eb",
   "metadata": {},
   "outputs": [
    {
     "name": "stdout",
     "output_type": "stream",
     "text": [
      "======== Nb of buoys read from sidfex file ====\n",
      "2\n",
      "======== Buoy id, lon lat\n",
      "300534064266620\n",
      "-38.46444\n",
      "63.84587\n",
      "======== Buoy id, lon lat\n",
      "300534062025510\n",
      "-108.59057\n",
      "86.66488\n"
     ]
    }
   ],
   "source": [
    "\n",
    "import numpy as np\n",
    "from os import path\n",
    "\n",
    "fili=\"./sidfexloc.dat\"\n",
    "\n",
    "if (path.exists(fili)):\n",
    "    \n",
    "    # reads buoys id and locations (lon lat) from text file\n",
    "    listbuoys = np.genfromtxt(open(fili))\n",
    "    \n",
    "    # Keep track of how many buoys are read in input file\n",
    "    NBUOYTOTR=listbuoys.shape[0]\n",
    "    print(\"======== Nb of buoys read from sidfex file ====\")\n",
    "    print(NBUOYTOTR)\n",
    "    \n",
    "    # Loop over buoys\n",
    "    for ib in np.arange(0,listbuoys.shape[0]):\n",
    "        print(\"======== Buoy id, lon lat\")\n",
    "        print(int(listbuoys[ib,0]))\n",
    "        print(listbuoys[ib,1])\n",
    "        print(listbuoys[ib,2])\n",
    "    \n",
    "else:\n",
    "    print(\"============================================\") \n",
    "    print(\"=== Error ! 'sidfexloc.dat' file is missing.\")\n",
    "    print(\"============================================\") \n",
    "    exit"
   ]
  },
  {
   "cell_type": "code",
   "execution_count": null,
   "id": "318f4a7a-e08b-48d5-b875-6d363166cd03",
   "metadata": {},
   "outputs": [],
   "source": []
  }
 ],
 "metadata": {
  "kernelspec": {
   "display_name": "Python 3 (ipykernel)",
   "language": "python",
   "name": "python3"
  },
  "language_info": {
   "codemirror_mode": {
    "name": "ipython",
    "version": 3
   },
   "file_extension": ".py",
   "mimetype": "text/x-python",
   "name": "python",
   "nbconvert_exporter": "python",
   "pygments_lexer": "ipython3",
   "version": "3.11.3"
  }
 },
 "nbformat": 4,
 "nbformat_minor": 5
}
